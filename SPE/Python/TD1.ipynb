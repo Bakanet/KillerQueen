{
 "cells": [
  {
   "cell_type": "markdown",
   "metadata": {},
   "source": [
    "# <u><b>General Trees</b></u>\n",
    "## <b>1. Mesures</b>\n",
    "### <b><font color=blue>Exercice 1.1 : Taille</font></b>"
   ]
  },
  {
   "cell_type": "code",
   "execution_count": 17,
   "metadata": {},
   "outputs": [],
   "source": [
    "def size(T):\n",
    "    if T == None:\n",
    "        return 0\n",
    "    elif T.children == []:\n",
    "        return 1\n",
    "    else:\n",
    "        s = 1\n",
    "        for i in range(len(T.children)):\n",
    "            s += size(T.children)\n",
    "        return s\n",
    "    \n",
    "def size2(T):\n",
    "    if not T:\n",
    "        return 0\n",
    "    else:\n",
    "        return 1 + size2(T.child) + size2(T.sibling)"
   ]
  },
  {
   "cell_type": "markdown",
   "metadata": {},
   "source": [
    "### <font color=\"blue\"><b>Exercice 1.2 : Hauteur</b></font>"
   ]
  },
  {
   "cell_type": "code",
   "execution_count": 1,
   "metadata": {},
   "outputs": [
    {
     "data": {
      "image/svg+xml": [
       "<svg height=\"260pt\" viewBox=\"0.00 0.00 350.00 260.00\" width=\"350pt\" xmlns=\"http://www.w3.org/2000/svg\" xmlns:xlink=\"http://www.w3.org/1999/xlink\">\n",
       "<g class=\"graph\" id=\"graph0\" transform=\"scale(1 1) rotate(0) translate(4 256)\">\n",
       "<title>temp</title>\n",
       "<polygon fill=\"white\" points=\"-4,4 -4,-256 346,-256 346,4 -4,4\" stroke=\"none\"/>\n",
       "<!-- 3118253237640 -->\n",
       "<g class=\"node\" id=\"node1\"><title>3118253237640</title>\n",
       "<ellipse cx=\"207\" cy=\"-234\" fill=\"none\" rx=\"27\" ry=\"18\" stroke=\"black\"/>\n",
       "<text font-family=\"Times New Roman,serif\" font-size=\"14.00\" text-anchor=\"middle\" x=\"207\" y=\"-230.3\">15</text>\n",
       "</g>\n",
       "<!-- 3118253236296 -->\n",
       "<g class=\"node\" id=\"node2\"><title>3118253236296</title>\n",
       "<ellipse cx=\"99\" cy=\"-162\" fill=\"none\" rx=\"27\" ry=\"18\" stroke=\"black\"/>\n",
       "<text font-family=\"Times New Roman,serif\" font-size=\"14.00\" text-anchor=\"middle\" x=\"99\" y=\"-158.3\">3</text>\n",
       "</g>\n",
       "<!-- 3118253237640&#45;&#45;3118253236296 -->\n",
       "<g class=\"edge\" id=\"edge1\"><title>3118253237640--3118253236296</title>\n",
       "<path d=\"M188.188,-220.807C168.365,-207.959 137.338,-187.848 117.597,-175.053\" fill=\"none\" stroke=\"black\"/>\n",
       "</g>\n",
       "<!-- 3118253236912 -->\n",
       "<g class=\"node\" id=\"node3\"><title>3118253236912</title>\n",
       "<ellipse cx=\"207\" cy=\"-162\" fill=\"none\" rx=\"27\" ry=\"18\" stroke=\"black\"/>\n",
       "<text font-family=\"Times New Roman,serif\" font-size=\"14.00\" text-anchor=\"middle\" x=\"207\" y=\"-158.3\">8</text>\n",
       "</g>\n",
       "<!-- 3118253237640&#45;&#45;3118253236912 -->\n",
       "<g class=\"edge\" id=\"edge2\"><title>3118253237640--3118253236912</title>\n",
       "<path d=\"M207,-215.697C207,-204.846 207,-190.917 207,-180.104\" fill=\"none\" stroke=\"black\"/>\n",
       "</g>\n",
       "<!-- 3118253237528 -->\n",
       "<g class=\"node\" id=\"node4\"><title>3118253237528</title>\n",
       "<ellipse cx=\"279\" cy=\"-162\" fill=\"none\" rx=\"27\" ry=\"18\" stroke=\"black\"/>\n",
       "<text font-family=\"Times New Roman,serif\" font-size=\"14.00\" text-anchor=\"middle\" x=\"279\" y=\"-158.3\">9</text>\n",
       "</g>\n",
       "<!-- 3118253237640&#45;&#45;3118253237528 -->\n",
       "<g class=\"edge\" id=\"edge3\"><title>3118253237640--3118253237528</title>\n",
       "<path d=\"M221.57,-218.834C233.98,-206.77 251.731,-189.512 264.204,-177.385\" fill=\"none\" stroke=\"black\"/>\n",
       "</g>\n",
       "<!-- 3118253178832 -->\n",
       "<g class=\"node\" id=\"node5\"><title>3118253178832</title>\n",
       "<ellipse cx=\"27\" cy=\"-90\" fill=\"none\" rx=\"27\" ry=\"18\" stroke=\"black\"/>\n",
       "<text font-family=\"Times New Roman,serif\" font-size=\"14.00\" text-anchor=\"middle\" x=\"27\" y=\"-86.3\">-6</text>\n",
       "</g>\n",
       "<!-- 3118253236296&#45;&#45;3118253178832 -->\n",
       "<g class=\"edge\" id=\"edge4\"><title>3118253236296--3118253178832</title>\n",
       "<path d=\"M84.4297,-146.834C72.0202,-134.77 54.2694,-117.512 41.7957,-105.385\" fill=\"none\" stroke=\"black\"/>\n",
       "</g>\n",
       "<!-- 3118253178776 -->\n",
       "<g class=\"node\" id=\"node6\"><title>3118253178776</title>\n",
       "<ellipse cx=\"99\" cy=\"-90\" fill=\"none\" rx=\"27\" ry=\"18\" stroke=\"black\"/>\n",
       "<text font-family=\"Times New Roman,serif\" font-size=\"14.00\" text-anchor=\"middle\" x=\"99\" y=\"-86.3\">10</text>\n",
       "</g>\n",
       "<!-- 3118253236296&#45;&#45;3118253178776 -->\n",
       "<g class=\"edge\" id=\"edge5\"><title>3118253236296--3118253178776</title>\n",
       "<path d=\"M99,-143.697C99,-132.846 99,-118.917 99,-108.104\" fill=\"none\" stroke=\"black\"/>\n",
       "</g>\n",
       "<!-- 3118253236352 -->\n",
       "<g class=\"node\" id=\"node7\"><title>3118253236352</title>\n",
       "<ellipse cx=\"171\" cy=\"-90\" fill=\"none\" rx=\"27\" ry=\"18\" stroke=\"black\"/>\n",
       "<text font-family=\"Times New Roman,serif\" font-size=\"14.00\" text-anchor=\"middle\" x=\"171\" y=\"-86.3\">11</text>\n",
       "</g>\n",
       "<!-- 3118253236912&#45;&#45;3118253236352 -->\n",
       "<g class=\"edge\" id=\"edge6\"><title>3118253236912--3118253236352</title>\n",
       "<path d=\"M198.65,-144.765C192.835,-133.456 185.11,-118.437 179.304,-107.147\" fill=\"none\" stroke=\"black\"/>\n",
       "</g>\n",
       "<!-- 3118253236688 -->\n",
       "<g class=\"node\" id=\"node8\"><title>3118253236688</title>\n",
       "<ellipse cx=\"243\" cy=\"-90\" fill=\"none\" rx=\"27\" ry=\"18\" stroke=\"black\"/>\n",
       "<text font-family=\"Times New Roman,serif\" font-size=\"14.00\" text-anchor=\"middle\" x=\"243\" y=\"-86.3\">2</text>\n",
       "</g>\n",
       "<!-- 3118253236912&#45;&#45;3118253236688 -->\n",
       "<g class=\"edge\" id=\"edge7\"><title>3118253236912--3118253236688</title>\n",
       "<path d=\"M215.35,-144.765C221.165,-133.456 228.89,-118.437 234.696,-107.147\" fill=\"none\" stroke=\"black\"/>\n",
       "</g>\n",
       "<!-- 3118253236744 -->\n",
       "<g class=\"node\" id=\"node9\"><title>3118253236744</title>\n",
       "<ellipse cx=\"315\" cy=\"-90\" fill=\"none\" rx=\"27\" ry=\"18\" stroke=\"black\"/>\n",
       "<text font-family=\"Times New Roman,serif\" font-size=\"14.00\" text-anchor=\"middle\" x=\"315\" y=\"-86.3\">5</text>\n",
       "</g>\n",
       "<!-- 3118253236912&#45;&#45;3118253236744 -->\n",
       "<g class=\"edge\" id=\"edge8\"><title>3118253236912--3118253236744</title>\n",
       "<path d=\"M225.812,-148.807C245.635,-135.959 276.662,-115.848 296.403,-103.053\" fill=\"none\" stroke=\"black\"/>\n",
       "</g>\n",
       "<!-- 3118253236464 -->\n",
       "<g class=\"node\" id=\"node10\"><title>3118253236464</title>\n",
       "<ellipse cx=\"135\" cy=\"-18\" fill=\"none\" rx=\"27\" ry=\"18\" stroke=\"black\"/>\n",
       "<text font-family=\"Times New Roman,serif\" font-size=\"14.00\" text-anchor=\"middle\" x=\"135\" y=\"-14.3\">0</text>\n",
       "</g>\n",
       "<!-- 3118253236352&#45;&#45;3118253236464 -->\n",
       "<g class=\"edge\" id=\"edge9\"><title>3118253236352--3118253236464</title>\n",
       "<path d=\"M162.65,-72.7646C156.835,-61.456 149.11,-46.4367 143.304,-35.1473\" fill=\"none\" stroke=\"black\"/>\n",
       "</g>\n",
       "<!-- 3118253237584 -->\n",
       "<g class=\"node\" id=\"node11\"><title>3118253237584</title>\n",
       "<ellipse cx=\"207\" cy=\"-18\" fill=\"none\" rx=\"27\" ry=\"18\" stroke=\"black\"/>\n",
       "<text font-family=\"Times New Roman,serif\" font-size=\"14.00\" text-anchor=\"middle\" x=\"207\" y=\"-14.3\">4</text>\n",
       "</g>\n",
       "<!-- 3118253236352&#45;&#45;3118253237584 -->\n",
       "<g class=\"edge\" id=\"edge10\"><title>3118253236352--3118253237584</title>\n",
       "<path d=\"M179.35,-72.7646C185.165,-61.456 192.89,-46.4367 198.696,-35.1473\" fill=\"none\" stroke=\"black\"/>\n",
       "</g>\n",
       "</g>\n",
       "</svg>"
      ],
      "text/plain": [
       "<IPython.core.display.SVG object>"
      ]
     },
     "execution_count": 1,
     "metadata": {},
     "output_type": "execute_result"
    }
   ],
   "source": [
    "import queue\n",
    "from tree import Tree\n",
    "\n",
    "T = Tree('15', [Tree('3', [Tree('-6'), Tree('10')]), Tree('8', [Tree('11', [Tree('0'), Tree('4')]), Tree('2'), Tree('5')]), Tree('9')])\n",
    "T.display()"
   ]
  },
  {
   "cell_type": "code",
   "execution_count": null,
   "metadata": {},
   "outputs": [],
   "source": []
  }
 ],
 "metadata": {
  "kernelspec": {
   "display_name": "Python 3",
   "language": "python",
   "name": "python3"
  },
  "language_info": {
   "codemirror_mode": {
    "name": "ipython",
    "version": 3
   },
   "file_extension": ".py",
   "mimetype": "text/x-python",
   "name": "python",
   "nbconvert_exporter": "python",
   "pygments_lexer": "ipython3",
   "version": "3.6.6"
  }
 },
 "nbformat": 4,
 "nbformat_minor": 2
}
