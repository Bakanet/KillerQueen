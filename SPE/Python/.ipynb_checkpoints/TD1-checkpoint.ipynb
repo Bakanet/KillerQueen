{
 "cells": [
  {
   "cell_type": "markdown",
   "metadata": {},
   "source": [
    "# <u><b>General Trees</b></u>\n",
    "## <b>1. Mesures</b>\n",
    "### <b><font color=blue>Exercice 1.1 : Taille</font></b>"
   ]
  },
  {
   "cell_type": "code",
   "execution_count": 17,
   "metadata": {},
   "outputs": [],
   "source": [
    "def size(T):\n",
    "    if T == None:\n",
    "        return 0\n",
    "    elif T.children == []:\n",
    "        return 1\n",
    "    else:\n",
    "        s = 1\n",
    "        for i in range(len(T.children)):\n",
    "            s += size(T.children)\n",
    "        return s\n",
    "    \n",
    "def size2(T):\n",
    "    if not T:\n",
    "        return 0\n",
    "    else:\n",
    "        return 1 + size2(T.child) + size2(T.sibling)"
   ]
  },
  {
   "cell_type": "markdown",
   "metadata": {},
   "source": [
    "### <font color=\"blue\"><b>Exercice 1.2 : Hauteur</b></font>"
   ]
  },
  {
   "cell_type": "code",
   "execution_count": 7,
   "metadata": {},
   "outputs": [
    {
     "ename": "AttributeError",
     "evalue": "'TreeAsBin' object has no attribute 'display'",
     "output_type": "error",
     "traceback": [
      "\u001b[1;31m---------------------------------------------------------------------------\u001b[0m",
      "\u001b[1;31mAttributeError\u001b[0m                            Traceback (most recent call last)",
      "\u001b[1;32m<ipython-input-7-0a79fd7e5e06>\u001b[0m in \u001b[0;36m<module>\u001b[1;34m()\u001b[0m\n\u001b[0;32m     20\u001b[0m \u001b[1;33m\u001b[0m\u001b[0m\n\u001b[0;32m     21\u001b[0m \u001b[0mT\u001b[0m\u001b[1;33m.\u001b[0m\u001b[0mdisplay\u001b[0m\u001b[1;33m(\u001b[0m\u001b[1;33m)\u001b[0m\u001b[1;33m\u001b[0m\u001b[0m\n\u001b[1;32m---> 22\u001b[1;33m \u001b[0mT_bin\u001b[0m\u001b[1;33m.\u001b[0m\u001b[0mdisplay\u001b[0m\u001b[1;33m(\u001b[0m\u001b[1;33m)\u001b[0m\u001b[1;33m\u001b[0m\u001b[0m\n\u001b[0m",
      "\u001b[1;31mAttributeError\u001b[0m: 'TreeAsBin' object has no attribute 'display'"
     ]
    }
   ],
   "source": [
    "import queue\n",
    "from tree import Tree\n",
    "from treeasbin import TreeAsBin\n",
    "T = Tree('15', [Tree('3', [Tree('-6'), Tree('10')]), Tree('8', [Tree('11', [Tree('0'), Tree('4')]), Tree('2'), Tree('5')]), Tree('9')])\n",
    "T_bin = TreeAsBin('15', TreeAsBin('3', TreeAsBin('-6', None, TreeAsBin('10')), TreeAsBin('8', TreeAsBin('11', TreeAsBin('0', None, TreeAsBin('4')), TreeAsBin('2', None, TreeAsBin('5'))), TreeAsBin('9'))))\n",
    "def height_gen(T):\n",
    "    if T == None:\n",
    "        return -1\n",
    "    else:\n",
    "        maxheight = 0\n",
    "        for child in T.children:\n",
    "            maxheight = max(maxheight, 1 + height_gen(child))\n",
    "        return maxheight\n",
    "\n",
    "def height_bin(T):\n",
    "    if T == None:\n",
    "        return -1\n",
    "    else:\n",
    "        return max(1 + height_bin(T.child), height_bin(T.sibling))\n",
    "    \n",
    "T.display()\n",
    "T_bin.display()"
   ]
  },
  {
   "cell_type": "code",
   "execution_count": null,
   "metadata": {},
   "outputs": [],
   "source": []
  }
 ],
 "metadata": {
  "kernelspec": {
   "display_name": "Python 3",
   "language": "python",
   "name": "python3"
  },
  "language_info": {
   "codemirror_mode": {
    "name": "ipython",
    "version": 3
   },
   "file_extension": ".py",
   "mimetype": "text/x-python",
   "name": "python",
   "nbconvert_exporter": "python",
   "pygments_lexer": "ipython3",
   "version": "3.6.6"
  }
 },
 "nbformat": 4,
 "nbformat_minor": 2
}
